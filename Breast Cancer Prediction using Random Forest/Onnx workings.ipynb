{
 "cells": [
  {
   "cell_type": "code",
   "execution_count": 33,
   "metadata": {},
   "outputs": [],
   "source": [
    "import numpy as np\n",
    "import pickle \n",
    "import onnx\n",
    "import onnxmltools\n",
    "from skl2onnx import convert_sklearn\n",
    "from skl2onnx.common.data_types import FloatTensorType\n",
    "import onnxruntime\n",
    "\n"
   ]
  },
  {
   "cell_type": "code",
   "execution_count": 34,
   "metadata": {},
   "outputs": [],
   "source": [
    "with open(r\"C:\\Users\\GTR\\Desktop\\Cancer Prediction\\Breast Cancer Prediction using Random Forest\\Breast Cancer Predictor with scaler_1.pkl\",'rb') as file:\n",
    "          saved_data=pickle.load(file)\n",
    "          loaded_model=saved_data['model']\n",
    "          loaded_scaler=saved_data['scaler']"
   ]
  },
  {
   "cell_type": "code",
   "execution_count": 35,
   "metadata": {},
   "outputs": [],
   "source": [
    "# initial_type=[('float_input',FloatTensorType([None,5]))]\n",
    "\n",
    "# onnx_model=convert_sklearn(loaded_model,initial_types=initial_type)\n"
   ]
  },
  {
   "cell_type": "code",
   "execution_count": 36,
   "metadata": {},
   "outputs": [],
   "source": [
    "# onnx_model.graph.input[0].name='float_input'\n",
    "# onnx_model.graph.output[0].name='output_label'\n"
   ]
  },
  {
   "cell_type": "code",
   "execution_count": 37,
   "metadata": {},
   "outputs": [],
   "source": [
    "# for input_info in onnx_model.graph.input:\n",
    "#           tensor=onnx.helper.make_tensor(\n",
    "#                   name=input_info.name + '_initializer',\n",
    "#                   data_type=input_info.type.tensor_type.elem_type,\n",
    "#                   dims=[dim.dim_value for dim in input_info.type.tensor_type.shape.dim],\n",
    "#                   vals=np.zeros(np.prod([dim.dim_value for dim in input_info.type.tensor_type.shape.dim]),\n",
    "#                                 dtype=np.float32).tobytes(),\n",
    "                  \n",
    "#           )\n",
    "#           onnx_model.graph.initializer.append(tensor)"
   ]
  },
  {
   "cell_type": "code",
   "execution_count": 38,
   "metadata": {},
   "outputs": [],
   "source": [
    "# onnx_filename=\"Cancer Detection Model with scaler.onnx\"\n",
    "# onnxmltools.utils.save_model(onnx_model,onnx_filename)"
   ]
  },
  {
   "cell_type": "markdown",
   "metadata": {},
   "source": [
    "loading the onnx file."
   ]
  },
  {
   "cell_type": "code",
   "execution_count": 39,
   "metadata": {},
   "outputs": [],
   "source": [
    "onnx_filename=r\"C:\\Users\\GTR\\Desktop\\Cancer Prediction\\Breast Cancer Prediction using Random Forest\\Cancer Detection Model with scaler_1.onnx\"\n",
    "onnx_session=onnxruntime.InferenceSession(onnx_filename)"
   ]
  },
  {
   "cell_type": "code",
   "execution_count": 50,
   "metadata": {},
   "outputs": [
    {
     "data": {
      "text/plain": [
       "[[1.457, 57.72, 0.01056, 0.05839, 0.3344]]"
      ]
     },
     "execution_count": 50,
     "metadata": {},
     "output_type": "execute_result"
    }
   ],
   "source": [
    "new_data=[[1.457000,57.720000,0.010560,0.058390,0.334400]]\n",
    "new_data"
   ]
  },
  {
   "cell_type": "code",
   "execution_count": 51,
   "metadata": {},
   "outputs": [
    {
     "name": "stderr",
     "output_type": "stream",
     "text": [
      "C:\\Users\\GTR\\AppData\\Local\\Packages\\PythonSoftwareFoundation.Python.3.11_qbz5n2kfra8p0\\LocalCache\\local-packages\\Python311\\site-packages\\sklearn\\base.py:465: UserWarning: X does not have valid feature names, but StandardScaler was fitted with feature names\n",
      "  warnings.warn(\n"
     ]
    },
    {
     "data": {
      "text/plain": [
       "array([[0.482372  , 0.2377998 , 1.2496185 , 0.82129455, 0.12439884]],\n",
       "      dtype=float32)"
      ]
     },
     "execution_count": 51,
     "metadata": {},
     "output_type": "execute_result"
    }
   ],
   "source": [
    "new_data_scaled=loaded_scaler.transform(new_data)\n",
    "new_data_scaled=new_data_scaled.astype(np.float32)\n",
    "new_data_scaled"
   ]
  },
  {
   "cell_type": "code",
   "execution_count": 52,
   "metadata": {},
   "outputs": [],
   "source": [
    "input_name=onnx_session.get_inputs()[0].name \n",
    "output_name=onnx_session.get_outputs()[0].name\n",
    "\n",
    "\n",
    "predictions=onnx_session.run([output_name],{input_name:new_data_scaled})\n"
   ]
  },
  {
   "cell_type": "code",
   "execution_count": 53,
   "metadata": {},
   "outputs": [
    {
     "data": {
      "text/plain": [
       "1"
      ]
     },
     "execution_count": 53,
     "metadata": {},
     "output_type": "execute_result"
    }
   ],
   "source": [
    "predictions[0][0]"
   ]
  },
  {
   "cell_type": "code",
   "execution_count": 54,
   "metadata": {},
   "outputs": [
    {
     "name": "stdout",
     "output_type": "stream",
     "text": [
      "Predicted_class:  Malignant\n"
     ]
    }
   ],
   "source": [
    "predicted_class=\"Malignant\" if predictions[0][0] > 0.5 else \"Benign\"\n",
    "print(\"Predicted_class: \",predicted_class)"
   ]
  },
  {
   "cell_type": "code",
   "execution_count": null,
   "metadata": {},
   "outputs": [],
   "source": []
  }
 ],
 "metadata": {
  "kernelspec": {
   "display_name": "Python 3",
   "language": "python",
   "name": "python3"
  },
  "language_info": {
   "codemirror_mode": {
    "name": "ipython",
    "version": 3
   },
   "file_extension": ".py",
   "mimetype": "text/x-python",
   "name": "python",
   "nbconvert_exporter": "python",
   "pygments_lexer": "ipython3",
   "version": "3.11.5"
  }
 },
 "nbformat": 4,
 "nbformat_minor": 2
}
